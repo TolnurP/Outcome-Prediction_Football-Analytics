{
  "nbformat": 4,
  "nbformat_minor": 0,
  "metadata": {
    "colab": {
      "provenance": []
    },
    "kernelspec": {
      "name": "python3",
      "display_name": "Python 3"
    },
    "language_info": {
      "name": "python"
    }
  },
  "cells": [
    {
      "cell_type": "code",
      "execution_count": 1,
      "metadata": {
        "id": "y0FXzHfz1mlb"
      },
      "outputs": [],
      "source": [
        "import pandas as pd\n",
        "import numpy as np\n",
        "from sklearn.preprocessing import LabelEncoder\n",
        "from sklearn.model_selection import train_test_split, GridSearchCV\n",
        "from sklearn.ensemble import GradientBoostingClassifier\n",
        "from sklearn.metrics import accuracy_score, classification_report\n",
        "from sklearn.utils.class_weight import compute_sample_weight"
      ]
    },
    {
      "cell_type": "code",
      "source": [
        "# Load the dataset\n",
        "data = pd.read_csv('Football 49 Data_Season 2023.csv')"
      ],
      "metadata": {
        "id": "vk2X5cza1wex"
      },
      "execution_count": 2,
      "outputs": []
    },
    {
      "cell_type": "code",
      "source": [
        "# Preprocessing: Encoding categorical variables\n",
        "categorical_columns = data.select_dtypes(include=['object']).columns\n",
        "label_encoders = {}\n",
        "for col in categorical_columns:\n",
        "    le = LabelEncoder()\n",
        "    data[col] = le.fit_transform(data[col])\n",
        "    label_encoders[col] = le"
      ],
      "metadata": {
        "id": "SGk-OgpJ1whQ"
      },
      "execution_count": 3,
      "outputs": []
    },
    {
      "cell_type": "code",
      "source": [
        "# Creating lagged features for previous plays (5 lags)\n",
        "num_lags = 5\n",
        "for lag in range(1, num_lags + 1):\n",
        "    data[f'QB_Comment_lag_{lag}'] = data['QB Comment'].shift(lag)"
      ],
      "metadata": {
        "id": "fG8nSJAC1wjQ"
      },
      "execution_count": 4,
      "outputs": []
    },
    {
      "cell_type": "code",
      "source": [
        "# Dropping rows with NaN values created due to lagging\n",
        "data.dropna(inplace=True)"
      ],
      "metadata": {
        "id": "V_GgmBiQ1wlv"
      },
      "execution_count": 5,
      "outputs": []
    },
    {
      "cell_type": "code",
      "source": [
        "# Extracting features and target variable\n",
        "features_seq = data.drop(columns=['QB Comment'])\n",
        "target_seq = data['QB Comment']"
      ],
      "metadata": {
        "id": "znKkAQsW1wn0"
      },
      "execution_count": 6,
      "outputs": []
    },
    {
      "cell_type": "code",
      "source": [
        "# Stratified Splitting the dataset into training, validation, and test sets\n",
        "X_train, X_remaining, y_train, y_remaining = train_test_split(\n",
        "    features_seq, target_seq,\n",
        "    test_size=0.4,\n",
        "    random_state=42,\n",
        "    stratify=target_seq\n",
        ")\n",
        "X_validation, X_test, y_validation, y_test = train_test_split(\n",
        "    X_remaining, y_remaining,\n",
        "    test_size=0.5,\n",
        "    random_state=42,\n",
        "    stratify=y_remaining\n",
        ")"
      ],
      "metadata": {
        "id": "r6G2RtBw1wpx"
      },
      "execution_count": 7,
      "outputs": []
    },
    {
      "cell_type": "code",
      "source": [
        "# Selecting relevant features based on feature importance and domain knowledge\n",
        "relevant_features = [\n",
        "    'QB_Comment_lag_1', 'Down', 'Distance', 'Field Position', 'Series', 'Play',\n",
        "    'Play Number', 'QB_Comment_lag_2', 'Formation', 'The_Play',\n",
        "    'Run Concept', 'QB_Comment_lag_4', 'R/P', 'Pass Result',\n",
        "    'Gain', 'QB_Comment_lag_3', 'Motion', 'QB_Comment_lag_5'\n",
        "]"
      ],
      "metadata": {
        "id": "LlvZqPmD1wsr"
      },
      "execution_count": 8,
      "outputs": []
    },
    {
      "cell_type": "code",
      "source": [
        "# Reducing the dataset to the selected features\n",
        "X_train_reduced = X_train[relevant_features]\n",
        "X_validation_reduced = X_validation[relevant_features]\n",
        "X_test_reduced = X_test[relevant_features]"
      ],
      "metadata": {
        "id": "l-7xv0PM1wvN"
      },
      "execution_count": 9,
      "outputs": []
    },
    {
      "cell_type": "code",
      "source": [
        "# Manually setting a grid of parameters for Grid Search\n",
        "param_grid = {\n",
        "    'n_estimators': [100, 200, 300],\n",
        "    'learning_rate': [0.05, 0.1, 0.2],\n",
        "    'max_depth': [3, 4, 5]\n",
        "}"
      ],
      "metadata": {
        "id": "iMH0mb4CAhR6"
      },
      "execution_count": 10,
      "outputs": []
    },
    {
      "cell_type": "code",
      "source": [
        "# Initialize the GridSearchCV object\n",
        "grid_search = GridSearchCV(\n",
        "    GradientBoostingClassifier(random_state=42),\n",
        "    param_grid,\n",
        "    cv=5,\n",
        "    scoring='accuracy',\n",
        "    verbose=1,\n",
        "    n_jobs=-1\n",
        ")"
      ],
      "metadata": {
        "id": "hy01r9i6Ak5y"
      },
      "execution_count": 11,
      "outputs": []
    },
    {
      "cell_type": "code",
      "source": [
        "# Adjusting class weights for the Gradient Boosting classifier\n",
        "class_weights = compute_sample_weight(class_weight='balanced', y=y_train)"
      ],
      "metadata": {
        "id": "JfWOYS-ABqRw"
      },
      "execution_count": 13,
      "outputs": []
    },
    {
      "cell_type": "code",
      "source": [
        "# Fit the grid search to the data\n",
        "grid_search.fit(X_train_reduced, y_train, sample_weight=class_weights)"
      ],
      "metadata": {
        "colab": {
          "base_uri": "https://localhost:8080/",
          "height": 135
        },
        "id": "q7jFkDZWAk8A",
        "outputId": "3d7a8fe1-ff5f-46ee-ce79-fd9c440355de"
      },
      "execution_count": 14,
      "outputs": [
        {
          "output_type": "stream",
          "name": "stdout",
          "text": [
            "Fitting 5 folds for each of 27 candidates, totalling 135 fits\n"
          ]
        },
        {
          "output_type": "execute_result",
          "data": {
            "text/plain": [
              "GridSearchCV(cv=5, estimator=GradientBoostingClassifier(random_state=42),\n",
              "             n_jobs=-1,\n",
              "             param_grid={'learning_rate': [0.05, 0.1, 0.2],\n",
              "                         'max_depth': [3, 4, 5],\n",
              "                         'n_estimators': [100, 200, 300]},\n",
              "             scoring='accuracy', verbose=1)"
            ],
            "text/html": [
              "<style>#sk-container-id-1 {color: black;background-color: white;}#sk-container-id-1 pre{padding: 0;}#sk-container-id-1 div.sk-toggleable {background-color: white;}#sk-container-id-1 label.sk-toggleable__label {cursor: pointer;display: block;width: 100%;margin-bottom: 0;padding: 0.3em;box-sizing: border-box;text-align: center;}#sk-container-id-1 label.sk-toggleable__label-arrow:before {content: \"▸\";float: left;margin-right: 0.25em;color: #696969;}#sk-container-id-1 label.sk-toggleable__label-arrow:hover:before {color: black;}#sk-container-id-1 div.sk-estimator:hover label.sk-toggleable__label-arrow:before {color: black;}#sk-container-id-1 div.sk-toggleable__content {max-height: 0;max-width: 0;overflow: hidden;text-align: left;background-color: #f0f8ff;}#sk-container-id-1 div.sk-toggleable__content pre {margin: 0.2em;color: black;border-radius: 0.25em;background-color: #f0f8ff;}#sk-container-id-1 input.sk-toggleable__control:checked~div.sk-toggleable__content {max-height: 200px;max-width: 100%;overflow: auto;}#sk-container-id-1 input.sk-toggleable__control:checked~label.sk-toggleable__label-arrow:before {content: \"▾\";}#sk-container-id-1 div.sk-estimator input.sk-toggleable__control:checked~label.sk-toggleable__label {background-color: #d4ebff;}#sk-container-id-1 div.sk-label input.sk-toggleable__control:checked~label.sk-toggleable__label {background-color: #d4ebff;}#sk-container-id-1 input.sk-hidden--visually {border: 0;clip: rect(1px 1px 1px 1px);clip: rect(1px, 1px, 1px, 1px);height: 1px;margin: -1px;overflow: hidden;padding: 0;position: absolute;width: 1px;}#sk-container-id-1 div.sk-estimator {font-family: monospace;background-color: #f0f8ff;border: 1px dotted black;border-radius: 0.25em;box-sizing: border-box;margin-bottom: 0.5em;}#sk-container-id-1 div.sk-estimator:hover {background-color: #d4ebff;}#sk-container-id-1 div.sk-parallel-item::after {content: \"\";width: 100%;border-bottom: 1px solid gray;flex-grow: 1;}#sk-container-id-1 div.sk-label:hover label.sk-toggleable__label {background-color: #d4ebff;}#sk-container-id-1 div.sk-serial::before {content: \"\";position: absolute;border-left: 1px solid gray;box-sizing: border-box;top: 0;bottom: 0;left: 50%;z-index: 0;}#sk-container-id-1 div.sk-serial {display: flex;flex-direction: column;align-items: center;background-color: white;padding-right: 0.2em;padding-left: 0.2em;position: relative;}#sk-container-id-1 div.sk-item {position: relative;z-index: 1;}#sk-container-id-1 div.sk-parallel {display: flex;align-items: stretch;justify-content: center;background-color: white;position: relative;}#sk-container-id-1 div.sk-item::before, #sk-container-id-1 div.sk-parallel-item::before {content: \"\";position: absolute;border-left: 1px solid gray;box-sizing: border-box;top: 0;bottom: 0;left: 50%;z-index: -1;}#sk-container-id-1 div.sk-parallel-item {display: flex;flex-direction: column;z-index: 1;position: relative;background-color: white;}#sk-container-id-1 div.sk-parallel-item:first-child::after {align-self: flex-end;width: 50%;}#sk-container-id-1 div.sk-parallel-item:last-child::after {align-self: flex-start;width: 50%;}#sk-container-id-1 div.sk-parallel-item:only-child::after {width: 0;}#sk-container-id-1 div.sk-dashed-wrapped {border: 1px dashed gray;margin: 0 0.4em 0.5em 0.4em;box-sizing: border-box;padding-bottom: 0.4em;background-color: white;}#sk-container-id-1 div.sk-label label {font-family: monospace;font-weight: bold;display: inline-block;line-height: 1.2em;}#sk-container-id-1 div.sk-label-container {text-align: center;}#sk-container-id-1 div.sk-container {/* jupyter's `normalize.less` sets `[hidden] { display: none; }` but bootstrap.min.css set `[hidden] { display: none !important; }` so we also need the `!important` here to be able to override the default hidden behavior on the sphinx rendered scikit-learn.org. See: https://github.com/scikit-learn/scikit-learn/issues/21755 */display: inline-block !important;position: relative;}#sk-container-id-1 div.sk-text-repr-fallback {display: none;}</style><div id=\"sk-container-id-1\" class=\"sk-top-container\"><div class=\"sk-text-repr-fallback\"><pre>GridSearchCV(cv=5, estimator=GradientBoostingClassifier(random_state=42),\n",
              "             n_jobs=-1,\n",
              "             param_grid={&#x27;learning_rate&#x27;: [0.05, 0.1, 0.2],\n",
              "                         &#x27;max_depth&#x27;: [3, 4, 5],\n",
              "                         &#x27;n_estimators&#x27;: [100, 200, 300]},\n",
              "             scoring=&#x27;accuracy&#x27;, verbose=1)</pre><b>In a Jupyter environment, please rerun this cell to show the HTML representation or trust the notebook. <br />On GitHub, the HTML representation is unable to render, please try loading this page with nbviewer.org.</b></div><div class=\"sk-container\" hidden><div class=\"sk-item sk-dashed-wrapped\"><div class=\"sk-label-container\"><div class=\"sk-label sk-toggleable\"><input class=\"sk-toggleable__control sk-hidden--visually\" id=\"sk-estimator-id-1\" type=\"checkbox\" ><label for=\"sk-estimator-id-1\" class=\"sk-toggleable__label sk-toggleable__label-arrow\">GridSearchCV</label><div class=\"sk-toggleable__content\"><pre>GridSearchCV(cv=5, estimator=GradientBoostingClassifier(random_state=42),\n",
              "             n_jobs=-1,\n",
              "             param_grid={&#x27;learning_rate&#x27;: [0.05, 0.1, 0.2],\n",
              "                         &#x27;max_depth&#x27;: [3, 4, 5],\n",
              "                         &#x27;n_estimators&#x27;: [100, 200, 300]},\n",
              "             scoring=&#x27;accuracy&#x27;, verbose=1)</pre></div></div></div><div class=\"sk-parallel\"><div class=\"sk-parallel-item\"><div class=\"sk-item\"><div class=\"sk-label-container\"><div class=\"sk-label sk-toggleable\"><input class=\"sk-toggleable__control sk-hidden--visually\" id=\"sk-estimator-id-2\" type=\"checkbox\" ><label for=\"sk-estimator-id-2\" class=\"sk-toggleable__label sk-toggleable__label-arrow\">estimator: GradientBoostingClassifier</label><div class=\"sk-toggleable__content\"><pre>GradientBoostingClassifier(random_state=42)</pre></div></div></div><div class=\"sk-serial\"><div class=\"sk-item\"><div class=\"sk-estimator sk-toggleable\"><input class=\"sk-toggleable__control sk-hidden--visually\" id=\"sk-estimator-id-3\" type=\"checkbox\" ><label for=\"sk-estimator-id-3\" class=\"sk-toggleable__label sk-toggleable__label-arrow\">GradientBoostingClassifier</label><div class=\"sk-toggleable__content\"><pre>GradientBoostingClassifier(random_state=42)</pre></div></div></div></div></div></div></div></div></div></div>"
            ]
          },
          "metadata": {},
          "execution_count": 14
        }
      ]
    },
    {
      "cell_type": "code",
      "source": [
        "# Best parameters and best score\n",
        "print(\"Best parameters found: \", grid_search.best_params_)\n",
        "print(\"Best accuracy found: \", grid_search.best_score_)"
      ],
      "metadata": {
        "colab": {
          "base_uri": "https://localhost:8080/"
        },
        "id": "zqjXQnA2ApUQ",
        "outputId": "24daa5e9-d09e-4b6c-8c25-52b6076e5ba1"
      },
      "execution_count": 15,
      "outputs": [
        {
          "output_type": "stream",
          "name": "stdout",
          "text": [
            "Best parameters found:  {'learning_rate': 0.1, 'max_depth': 4, 'n_estimators': 100}\n",
            "Best accuracy found:  0.8302521008403362\n"
          ]
        }
      ]
    },
    {
      "cell_type": "code",
      "source": [
        "# Using the best estimator found by GridSearchCV\n",
        "gb_classifier_best = grid_search.best_estimator_"
      ],
      "metadata": {
        "id": "6j-4DJRNAsWy"
      },
      "execution_count": 16,
      "outputs": []
    },
    {
      "cell_type": "code",
      "source": [
        "# Evaluate the model with best parameters on the training set\n",
        "y_pred_train_best = gb_classifier_best.predict(X_train_reduced)\n",
        "accuracy_train_best = accuracy_score(y_train, y_pred_train_best)\n",
        "classification_rep_train_best = classification_report(y_train, y_pred_train_best)\n",
        "print(\"Training Set Accuracy (Best Model):\", accuracy_train_best)\n",
        "print(\"Training Set Classification Report (Best Model):\\n\", classification_rep_train_best)"
      ],
      "metadata": {
        "colab": {
          "base_uri": "https://localhost:8080/"
        },
        "id": "7JjQyKu7J4xX",
        "outputId": "e7c4ab29-3961-4a91-a112-17fdb2d1025f"
      },
      "execution_count": 30,
      "outputs": [
        {
          "output_type": "stream",
          "name": "stdout",
          "text": [
            "Training Set Accuracy (Best Model): 1.0\n",
            "Training Set Classification Report (Best Model):\n",
            "               precision    recall  f1-score   support\n",
            "\n",
            "           0       1.00      1.00      1.00        47\n",
            "           1       1.00      1.00      1.00        11\n",
            "           2       1.00      1.00      1.00         8\n",
            "           3       1.00      1.00      1.00        54\n",
            "           4       1.00      1.00      1.00        16\n",
            "           5       1.00      1.00      1.00        22\n",
            "           6       1.00      1.00      1.00        25\n",
            "           7       1.00      1.00      1.00       178\n",
            "           8       1.00      1.00      1.00        63\n",
            "\n",
            "    accuracy                           1.00       424\n",
            "   macro avg       1.00      1.00      1.00       424\n",
            "weighted avg       1.00      1.00      1.00       424\n",
            "\n"
          ]
        }
      ]
    },
    {
      "cell_type": "code",
      "source": [
        "# Evaluate the model with best parameters on the validation set\n",
        "y_pred_validation_best = gb_classifier_best.predict(X_validation_reduced)\n",
        "accuracy_validation_best = accuracy_score(y_validation, y_pred_validation_best)\n",
        "classification_rep_validation_best = classification_report(y_validation, y_pred_validation_best)\n",
        "print(\"Validation Set Accuracy (Best Model):\", accuracy_validation_best)\n",
        "print(\"Validation Set Classification Report (Best Model):\\n\", classification_rep_validation_best)"
      ],
      "metadata": {
        "colab": {
          "base_uri": "https://localhost:8080/"
        },
        "id": "FL98290XA8O4",
        "outputId": "fbf2bc03-737d-4777-9dc3-80edfcf17491"
      },
      "execution_count": 17,
      "outputs": [
        {
          "output_type": "stream",
          "name": "stdout",
          "text": [
            "Validation Set Accuracy (Best Model): 0.851063829787234\n",
            "Validation Set Classification Report (Best Model):\n",
            "               precision    recall  f1-score   support\n",
            "\n",
            "           0       0.80      0.80      0.80        15\n",
            "           1       1.00      1.00      1.00         4\n",
            "           2       1.00      1.00      1.00         3\n",
            "           3       0.88      0.83      0.86        18\n",
            "           4       0.75      0.60      0.67         5\n",
            "           5       1.00      0.75      0.86         8\n",
            "           6       0.80      1.00      0.89         8\n",
            "           7       0.85      0.86      0.86        59\n",
            "           8       0.82      0.86      0.84        21\n",
            "\n",
            "    accuracy                           0.85       141\n",
            "   macro avg       0.88      0.86      0.86       141\n",
            "weighted avg       0.85      0.85      0.85       141\n",
            "\n"
          ]
        }
      ]
    },
    {
      "cell_type": "code",
      "source": [
        "# Evaluate the best model on the test set\n",
        "y_pred_test_best = gb_classifier_best.predict(X_test_reduced)\n",
        "accuracy_test_best = accuracy_score(y_test, y_pred_test_best)\n",
        "classification_rep_test_best = classification_report(y_test, y_pred_test_best)\n",
        "print(\"Test Set Accuracy (Best Model):\", accuracy_test_best)\n",
        "print(\"Test Set Classification Report (Best Model):\\n\", classification_rep_test_best)"
      ],
      "metadata": {
        "colab": {
          "base_uri": "https://localhost:8080/"
        },
        "id": "4cVu4VPaBEvI",
        "outputId": "9c949f73-541d-4259-fcf4-808698c9a507"
      },
      "execution_count": 18,
      "outputs": [
        {
          "output_type": "stream",
          "name": "stdout",
          "text": [
            "Test Set Accuracy (Best Model): 0.8098591549295775\n",
            "Test Set Classification Report (Best Model):\n",
            "               precision    recall  f1-score   support\n",
            "\n",
            "           0       0.93      0.81      0.87        16\n",
            "           1       1.00      0.75      0.86         4\n",
            "           2       0.33      0.33      0.33         3\n",
            "           3       0.79      0.83      0.81        18\n",
            "           4       0.75      0.60      0.67         5\n",
            "           5       0.80      0.57      0.67         7\n",
            "           6       0.67      0.75      0.71         8\n",
            "           7       0.83      0.90      0.86        60\n",
            "           8       0.80      0.76      0.78        21\n",
            "\n",
            "    accuracy                           0.81       142\n",
            "   macro avg       0.77      0.70      0.73       142\n",
            "weighted avg       0.81      0.81      0.81       142\n",
            "\n"
          ]
        }
      ]
    },
    {
      "cell_type": "code",
      "source": [
        "# Load and preprocess the holdout dataset\n",
        "holdout_data = pd.read_csv('Hold-out Data.csv')"
      ],
      "metadata": {
        "id": "VPGkzyxE1w85"
      },
      "execution_count": 19,
      "outputs": []
    },
    {
      "cell_type": "code",
      "source": [
        "# Apply the same preprocessing to the holdout data\n",
        "for col in categorical_columns:\n",
        "    if col in holdout_data.columns:\n",
        "        # Using 'apply' to safely encode labels, setting unseen labels to NaN\n",
        "        holdout_data[col] = holdout_data[col].apply(lambda x: label_encoders[col].transform([x])[0] if x in label_encoders[col].classes_ else np.nan)"
      ],
      "metadata": {
        "id": "UHMIrt3c71DE"
      },
      "execution_count": 20,
      "outputs": []
    },
    {
      "cell_type": "code",
      "source": [
        "for lag in range(1, num_lags + 1):\n",
        "    holdout_data[f'QB_Comment_lag_{lag}'] = holdout_data['QB Comment'].shift(lag)"
      ],
      "metadata": {
        "id": "czpH7_0s2mI6"
      },
      "execution_count": 21,
      "outputs": []
    },
    {
      "cell_type": "code",
      "source": [
        "holdout_data.dropna(inplace=True)"
      ],
      "metadata": {
        "id": "mtIjOgZ82mLX"
      },
      "execution_count": 22,
      "outputs": []
    },
    {
      "cell_type": "code",
      "source": [
        "# Selecting the same relevant features for the holdout data\n",
        "X_holdout_reduced = holdout_data[relevant_features]\n",
        "y_holdout = holdout_data['QB Comment']"
      ],
      "metadata": {
        "id": "mnvoNnBQ2mNf"
      },
      "execution_count": 23,
      "outputs": []
    },
    {
      "cell_type": "code",
      "source": [
        "# Evaluate the best model on the holdout dataset\n",
        "y_pred_holdout_best = gb_classifier_best.predict(X_holdout_reduced)\n",
        "accuracy_holdout_best = accuracy_score(y_holdout, y_pred_holdout_best)\n",
        "classification_rep_holdout_best = classification_report(y_holdout, y_pred_holdout_best)\n",
        "print(\"Holdout Dataset Accuracy (Best Model):\", accuracy_holdout_best)\n",
        "print(\"Holdout Dataset Classification Report (Best Model):\\n\", classification_rep_holdout_best)"
      ],
      "metadata": {
        "colab": {
          "base_uri": "https://localhost:8080/"
        },
        "id": "sKKyl_XzBVay",
        "outputId": "00f23057-b9a9-4d87-dcf2-b455c9df2326"
      },
      "execution_count": 24,
      "outputs": [
        {
          "output_type": "stream",
          "name": "stdout",
          "text": [
            "Holdout Dataset Accuracy (Best Model): 0.5714285714285714\n",
            "Holdout Dataset Classification Report (Best Model):\n",
            "               precision    recall  f1-score   support\n",
            "\n",
            "           0       1.00      1.00      1.00         1\n",
            "           3       1.00      1.00      1.00         1\n",
            "           4       0.00      0.00      0.00         0\n",
            "           5       1.00      1.00      1.00         1\n",
            "           7       0.00      0.00      0.00         1\n",
            "           8       0.50      0.33      0.40         3\n",
            "\n",
            "    accuracy                           0.57         7\n",
            "   macro avg       0.58      0.56      0.57         7\n",
            "weighted avg       0.64      0.57      0.60         7\n",
            "\n"
          ]
        },
        {
          "output_type": "stream",
          "name": "stderr",
          "text": [
            "/usr/local/lib/python3.10/dist-packages/sklearn/metrics/_classification.py:1344: UndefinedMetricWarning: Recall and F-score are ill-defined and being set to 0.0 in labels with no true samples. Use `zero_division` parameter to control this behavior.\n",
            "  _warn_prf(average, modifier, msg_start, len(result))\n",
            "/usr/local/lib/python3.10/dist-packages/sklearn/metrics/_classification.py:1344: UndefinedMetricWarning: Recall and F-score are ill-defined and being set to 0.0 in labels with no true samples. Use `zero_division` parameter to control this behavior.\n",
            "  _warn_prf(average, modifier, msg_start, len(result))\n",
            "/usr/local/lib/python3.10/dist-packages/sklearn/metrics/_classification.py:1344: UndefinedMetricWarning: Recall and F-score are ill-defined and being set to 0.0 in labels with no true samples. Use `zero_division` parameter to control this behavior.\n",
            "  _warn_prf(average, modifier, msg_start, len(result))\n"
          ]
        }
      ]
    },
    {
      "cell_type": "code",
      "source": [
        "def predict_next_play(sample, model, label_encoders):\n",
        "    # Prepare the data (ensure it has the same format as the training data)\n",
        "    prepared_sample = sample[relevant_features].to_numpy().reshape(1, -1)\n",
        "\n",
        "    # Predict the probabilities for each possible outcome\n",
        "    probabilities = model.predict_proba(prepared_sample)[0]\n",
        "    outcome_labels = label_encoders['QB Comment'].classes_\n",
        "\n",
        "    # Mapping the probabilities to the corresponding outcomes\n",
        "    prob_dict = dict(zip(outcome_labels, probabilities))\n",
        "\n",
        "    # Sorting the probabilities in descending order\n",
        "    sorted_prob_dict = dict(sorted(prob_dict.items(), key=lambda item: item[1], reverse=True))\n",
        "\n",
        "    return sorted_prob_dict"
      ],
      "metadata": {
        "id": "-hVAu-lf2mRt"
      },
      "execution_count": 25,
      "outputs": []
    },
    {
      "cell_type": "code",
      "source": [
        "# Example usage of the prediction function with the holdout data\n",
        "# Select a single sample (row) from the holdout dataset\n",
        "example_data = X_holdout_reduced.iloc[6]  # Adjust the index if you want to test a different sample"
      ],
      "metadata": {
        "id": "xJI0IhU48o-8"
      },
      "execution_count": 26,
      "outputs": []
    },
    {
      "cell_type": "code",
      "source": [
        "# Predicting probabilities for the next play\n",
        "predicted_probabilities = predict_next_play(example_data, gb_classifier_best, label_encoders)"
      ],
      "metadata": {
        "colab": {
          "base_uri": "https://localhost:8080/"
        },
        "id": "wRvnqhqQ8pBQ",
        "outputId": "4f02bdfb-62ff-4786-e656-7a98ae866f7d"
      },
      "execution_count": 28,
      "outputs": [
        {
          "output_type": "stream",
          "name": "stderr",
          "text": [
            "/usr/local/lib/python3.10/dist-packages/sklearn/base.py:439: UserWarning: X does not have valid feature names, but GradientBoostingClassifier was fitted with feature names\n",
            "  warnings.warn(\n"
          ]
        }
      ]
    },
    {
      "cell_type": "code",
      "source": [
        "print(\"Predicted Probabilities for Each Possible Outcome of the Next Play:\")\n",
        "for outcome, prob in predicted_probabilities.items():\n",
        "    print(f\"  {outcome}: {prob:.4f}\")"
      ],
      "metadata": {
        "colab": {
          "base_uri": "https://localhost:8080/"
        },
        "id": "ZCi1ZgJ78pDS",
        "outputId": "d6e13331-f6da-4200-c0ce-41b1be84d5fa"
      },
      "execution_count": 29,
      "outputs": [
        {
          "output_type": "stream",
          "name": "stdout",
          "text": [
            "Predicted Probabilities for Each Possible Outcome of the Next Play:\n",
            "  TOUCHDOWN: 0.9036\n",
            "  PUNT: 0.0875\n",
            "  FUMBLE: 0.0087\n",
            "  FIELD GOAL: 0.0001\n",
            "  MISSED FG: 0.0000\n",
            "  DOWNS: 0.0000\n",
            "  INTERCEPTION: 0.0000\n",
            "  END OF HALF: 0.0000\n",
            "  END OF GAME: 0.0000\n"
          ]
        }
      ]
    }
  ]
}