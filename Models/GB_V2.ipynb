{
  "nbformat": 4,
  "nbformat_minor": 0,
  "metadata": {
    "colab": {
      "provenance": []
    },
    "kernelspec": {
      "name": "python3",
      "display_name": "Python 3"
    },
    "language_info": {
      "name": "python"
    }
  },
  "cells": [
    {
      "cell_type": "code",
      "execution_count": 13,
      "metadata": {
        "id": "p0GCnsk6L5N6"
      },
      "outputs": [],
      "source": [
        "import pandas as pd\n",
        "import numpy as np\n",
        "import matplotlib.pyplot as plt\n",
        "from sklearn.model_selection import train_test_split, GridSearchCV\n",
        "from sklearn.ensemble import GradientBoostingClassifier\n",
        "from sklearn.metrics import accuracy_score, classification_report\n",
        "from sklearn.preprocessing import LabelEncoder\n",
        "from sklearn.utils.class_weight import compute_sample_weight"
      ]
    },
    {
      "cell_type": "code",
      "source": [
        "# Load the dataset\n",
        "data = pd.read_csv('Football 49 Data_Season 2023.csv')"
      ],
      "metadata": {
        "id": "Mmpyqdh4MEjk"
      },
      "execution_count": 3,
      "outputs": []
    },
    {
      "cell_type": "code",
      "source": [
        "# Preprocessing: Encoding categorical variables\n",
        "categorical_columns = data.select_dtypes(include=['object']).columns\n",
        "label_encoders = {}\n",
        "for col in categorical_columns:\n",
        "    le = LabelEncoder()\n",
        "    data[col] = le.fit_transform(data[col])\n",
        "    label_encoders[col] = le"
      ],
      "metadata": {
        "id": "9icW8kUbMEmF"
      },
      "execution_count": 4,
      "outputs": []
    },
    {
      "cell_type": "code",
      "source": [
        "# Creating lagged features for previous plays (5 lags)\n",
        "num_lags = 5\n",
        "for lag in range(1, num_lags + 1):\n",
        "    data[f'QB_Comment_lag_{lag}'] = data['QB Comment'].shift(lag)"
      ],
      "metadata": {
        "id": "P1sSUWP-MEoL"
      },
      "execution_count": 5,
      "outputs": []
    },
    {
      "cell_type": "code",
      "source": [
        "# Dropping rows with NaN values created due to lagging\n",
        "data.dropna(inplace=True)"
      ],
      "metadata": {
        "id": "AD9CWk6rMEqj"
      },
      "execution_count": 6,
      "outputs": []
    },
    {
      "cell_type": "code",
      "source": [
        "# Splitting the dataset into main dataset and hold-out dataset\n",
        "main_data, holdout_data = train_test_split(data, test_size=0.2, random_state=42, stratify=data['QB Comment'])"
      ],
      "metadata": {
        "id": "qpXPMP1VMEsr"
      },
      "execution_count": 7,
      "outputs": []
    },
    {
      "cell_type": "code",
      "source": [
        "# Splitting the main dataset into training, validation, and test sets\n",
        "features_seq = main_data.drop(columns=['QB Comment'])\n",
        "target_seq = main_data['QB Comment']\n",
        "X_train, X_remaining, y_train, y_remaining = train_test_split(\n",
        "    features_seq, target_seq, test_size=0.4, random_state=42, stratify=target_seq\n",
        ")\n",
        "X_validation, X_test, y_validation, y_test = train_test_split(\n",
        "    X_remaining, y_remaining, test_size=0.5, random_state=42, stratify=y_remaining\n",
        ")"
      ],
      "metadata": {
        "id": "CEUT6DD1MEuz"
      },
      "execution_count": 8,
      "outputs": []
    },
    {
      "cell_type": "code",
      "source": [
        "# Selecting relevant features based on feature importance and domain knowledge\n",
        "relevant_features = [\n",
        "    'QB_Comment_lag_1', 'Down', 'Distance', 'Field Position', 'Series', 'Play',\n",
        "    'Play Number', 'QB_Comment_lag_2', 'Formation', 'The_Play',\n",
        "    'Run Concept', 'QB_Comment_lag_4', 'R/P', 'Pass Result',\n",
        "    'Gain', 'QB_Comment_lag_3', 'Motion', 'QB_Comment_lag_5'\n",
        "]"
      ],
      "metadata": {
        "id": "c_4MuegTMExS"
      },
      "execution_count": 9,
      "outputs": []
    },
    {
      "cell_type": "code",
      "source": [
        "# Reducing the main dataset to the selected features\n",
        "X_train_reduced = X_train[relevant_features]\n",
        "X_validation_reduced = X_validation[relevant_features]\n",
        "X_test_reduced = X_test[relevant_features]"
      ],
      "metadata": {
        "id": "CqYrH0omME1z"
      },
      "execution_count": 10,
      "outputs": []
    },
    {
      "cell_type": "code",
      "source": [
        "# Setting up grid search parameters\n",
        "param_grid = {\n",
        "    'n_estimators': [100, 200, 300],\n",
        "    'learning_rate': [0.01, 0.1, 0.2],\n",
        "    'max_depth': [3, 4, 5]\n",
        "}"
      ],
      "metadata": {
        "id": "6DwkksfAME3i"
      },
      "execution_count": 11,
      "outputs": []
    },
    {
      "cell_type": "code",
      "source": [
        "# Initialize GridSearchCV\n",
        "grid_search = GridSearchCV(\n",
        "    GradientBoostingClassifier(random_state=42),\n",
        "    param_grid,\n",
        "    cv=5,\n",
        "    scoring='accuracy',\n",
        "    n_jobs=-1,\n",
        "    verbose=1\n",
        ")"
      ],
      "metadata": {
        "id": "UqSfAUk0Fie1"
      },
      "execution_count": 14,
      "outputs": []
    },
    {
      "cell_type": "code",
      "source": [
        "# Adjusting class weights for the Gradient Boosting classifier\n",
        "class_weights = compute_sample_weight(class_weight='balanced', y=y_train)"
      ],
      "metadata": {
        "id": "RWhtff9DFihX"
      },
      "execution_count": 15,
      "outputs": []
    },
    {
      "cell_type": "code",
      "source": [
        "# Fit grid search to the data\n",
        "grid_search.fit(X_train_reduced, y_train, sample_weight=class_weights)"
      ],
      "metadata": {
        "colab": {
          "base_uri": "https://localhost:8080/",
          "height": 172
        },
        "id": "VEfvqn4CFij6",
        "outputId": "d57559ab-4844-4a0e-9790-0df01196d452"
      },
      "execution_count": 16,
      "outputs": [
        {
          "output_type": "stream",
          "name": "stdout",
          "text": [
            "Fitting 5 folds for each of 27 candidates, totalling 135 fits\n"
          ]
        },
        {
          "output_type": "stream",
          "name": "stderr",
          "text": [
            "/usr/local/lib/python3.10/dist-packages/sklearn/model_selection/_split.py:700: UserWarning: The least populated class in y has only 3 members, which is less than n_splits=5.\n",
            "  warnings.warn(\n"
          ]
        },
        {
          "output_type": "execute_result",
          "data": {
            "text/plain": [
              "GridSearchCV(cv=5, estimator=GradientBoostingClassifier(random_state=42),\n",
              "             n_jobs=-1,\n",
              "             param_grid={'learning_rate': [0.01, 0.1, 0.2],\n",
              "                         'max_depth': [3, 4, 5],\n",
              "                         'n_estimators': [100, 200, 300]},\n",
              "             scoring='accuracy', verbose=1)"
            ],
            "text/html": [
              "<style>#sk-container-id-1 {color: black;background-color: white;}#sk-container-id-1 pre{padding: 0;}#sk-container-id-1 div.sk-toggleable {background-color: white;}#sk-container-id-1 label.sk-toggleable__label {cursor: pointer;display: block;width: 100%;margin-bottom: 0;padding: 0.3em;box-sizing: border-box;text-align: center;}#sk-container-id-1 label.sk-toggleable__label-arrow:before {content: \"▸\";float: left;margin-right: 0.25em;color: #696969;}#sk-container-id-1 label.sk-toggleable__label-arrow:hover:before {color: black;}#sk-container-id-1 div.sk-estimator:hover label.sk-toggleable__label-arrow:before {color: black;}#sk-container-id-1 div.sk-toggleable__content {max-height: 0;max-width: 0;overflow: hidden;text-align: left;background-color: #f0f8ff;}#sk-container-id-1 div.sk-toggleable__content pre {margin: 0.2em;color: black;border-radius: 0.25em;background-color: #f0f8ff;}#sk-container-id-1 input.sk-toggleable__control:checked~div.sk-toggleable__content {max-height: 200px;max-width: 100%;overflow: auto;}#sk-container-id-1 input.sk-toggleable__control:checked~label.sk-toggleable__label-arrow:before {content: \"▾\";}#sk-container-id-1 div.sk-estimator input.sk-toggleable__control:checked~label.sk-toggleable__label {background-color: #d4ebff;}#sk-container-id-1 div.sk-label input.sk-toggleable__control:checked~label.sk-toggleable__label {background-color: #d4ebff;}#sk-container-id-1 input.sk-hidden--visually {border: 0;clip: rect(1px 1px 1px 1px);clip: rect(1px, 1px, 1px, 1px);height: 1px;margin: -1px;overflow: hidden;padding: 0;position: absolute;width: 1px;}#sk-container-id-1 div.sk-estimator {font-family: monospace;background-color: #f0f8ff;border: 1px dotted black;border-radius: 0.25em;box-sizing: border-box;margin-bottom: 0.5em;}#sk-container-id-1 div.sk-estimator:hover {background-color: #d4ebff;}#sk-container-id-1 div.sk-parallel-item::after {content: \"\";width: 100%;border-bottom: 1px solid gray;flex-grow: 1;}#sk-container-id-1 div.sk-label:hover label.sk-toggleable__label {background-color: #d4ebff;}#sk-container-id-1 div.sk-serial::before {content: \"\";position: absolute;border-left: 1px solid gray;box-sizing: border-box;top: 0;bottom: 0;left: 50%;z-index: 0;}#sk-container-id-1 div.sk-serial {display: flex;flex-direction: column;align-items: center;background-color: white;padding-right: 0.2em;padding-left: 0.2em;position: relative;}#sk-container-id-1 div.sk-item {position: relative;z-index: 1;}#sk-container-id-1 div.sk-parallel {display: flex;align-items: stretch;justify-content: center;background-color: white;position: relative;}#sk-container-id-1 div.sk-item::before, #sk-container-id-1 div.sk-parallel-item::before {content: \"\";position: absolute;border-left: 1px solid gray;box-sizing: border-box;top: 0;bottom: 0;left: 50%;z-index: -1;}#sk-container-id-1 div.sk-parallel-item {display: flex;flex-direction: column;z-index: 1;position: relative;background-color: white;}#sk-container-id-1 div.sk-parallel-item:first-child::after {align-self: flex-end;width: 50%;}#sk-container-id-1 div.sk-parallel-item:last-child::after {align-self: flex-start;width: 50%;}#sk-container-id-1 div.sk-parallel-item:only-child::after {width: 0;}#sk-container-id-1 div.sk-dashed-wrapped {border: 1px dashed gray;margin: 0 0.4em 0.5em 0.4em;box-sizing: border-box;padding-bottom: 0.4em;background-color: white;}#sk-container-id-1 div.sk-label label {font-family: monospace;font-weight: bold;display: inline-block;line-height: 1.2em;}#sk-container-id-1 div.sk-label-container {text-align: center;}#sk-container-id-1 div.sk-container {/* jupyter's `normalize.less` sets `[hidden] { display: none; }` but bootstrap.min.css set `[hidden] { display: none !important; }` so we also need the `!important` here to be able to override the default hidden behavior on the sphinx rendered scikit-learn.org. See: https://github.com/scikit-learn/scikit-learn/issues/21755 */display: inline-block !important;position: relative;}#sk-container-id-1 div.sk-text-repr-fallback {display: none;}</style><div id=\"sk-container-id-1\" class=\"sk-top-container\"><div class=\"sk-text-repr-fallback\"><pre>GridSearchCV(cv=5, estimator=GradientBoostingClassifier(random_state=42),\n",
              "             n_jobs=-1,\n",
              "             param_grid={&#x27;learning_rate&#x27;: [0.01, 0.1, 0.2],\n",
              "                         &#x27;max_depth&#x27;: [3, 4, 5],\n",
              "                         &#x27;n_estimators&#x27;: [100, 200, 300]},\n",
              "             scoring=&#x27;accuracy&#x27;, verbose=1)</pre><b>In a Jupyter environment, please rerun this cell to show the HTML representation or trust the notebook. <br />On GitHub, the HTML representation is unable to render, please try loading this page with nbviewer.org.</b></div><div class=\"sk-container\" hidden><div class=\"sk-item sk-dashed-wrapped\"><div class=\"sk-label-container\"><div class=\"sk-label sk-toggleable\"><input class=\"sk-toggleable__control sk-hidden--visually\" id=\"sk-estimator-id-1\" type=\"checkbox\" ><label for=\"sk-estimator-id-1\" class=\"sk-toggleable__label sk-toggleable__label-arrow\">GridSearchCV</label><div class=\"sk-toggleable__content\"><pre>GridSearchCV(cv=5, estimator=GradientBoostingClassifier(random_state=42),\n",
              "             n_jobs=-1,\n",
              "             param_grid={&#x27;learning_rate&#x27;: [0.01, 0.1, 0.2],\n",
              "                         &#x27;max_depth&#x27;: [3, 4, 5],\n",
              "                         &#x27;n_estimators&#x27;: [100, 200, 300]},\n",
              "             scoring=&#x27;accuracy&#x27;, verbose=1)</pre></div></div></div><div class=\"sk-parallel\"><div class=\"sk-parallel-item\"><div class=\"sk-item\"><div class=\"sk-label-container\"><div class=\"sk-label sk-toggleable\"><input class=\"sk-toggleable__control sk-hidden--visually\" id=\"sk-estimator-id-2\" type=\"checkbox\" ><label for=\"sk-estimator-id-2\" class=\"sk-toggleable__label sk-toggleable__label-arrow\">estimator: GradientBoostingClassifier</label><div class=\"sk-toggleable__content\"><pre>GradientBoostingClassifier(random_state=42)</pre></div></div></div><div class=\"sk-serial\"><div class=\"sk-item\"><div class=\"sk-estimator sk-toggleable\"><input class=\"sk-toggleable__control sk-hidden--visually\" id=\"sk-estimator-id-3\" type=\"checkbox\" ><label for=\"sk-estimator-id-3\" class=\"sk-toggleable__label sk-toggleable__label-arrow\">GradientBoostingClassifier</label><div class=\"sk-toggleable__content\"><pre>GradientBoostingClassifier(random_state=42)</pre></div></div></div></div></div></div></div></div></div></div>"
            ]
          },
          "metadata": {},
          "execution_count": 16
        }
      ]
    },
    {
      "cell_type": "code",
      "source": [
        "# Best parameters and best score\n",
        "print(\"Best parameters found: \", grid_search.best_params_)\n",
        "print(\"Best accuracy found: \", grid_search.best_score_)"
      ],
      "metadata": {
        "colab": {
          "base_uri": "https://localhost:8080/"
        },
        "id": "5M0LUDVgME6U",
        "outputId": "8921dcfc-287b-4241-afad-a53eca55edbc"
      },
      "execution_count": 17,
      "outputs": [
        {
          "output_type": "stream",
          "name": "stdout",
          "text": [
            "Best parameters found:  {'learning_rate': 0.01, 'max_depth': 4, 'n_estimators': 300}\n",
            "Best accuracy found:  0.7956756756756758\n"
          ]
        }
      ]
    },
    {
      "cell_type": "code",
      "source": [
        "# Using the best estimator for further predictions\n",
        "gb_classifier_best = grid_search.best_estimator_"
      ],
      "metadata": {
        "id": "sYKObBJ1FtBm"
      },
      "execution_count": 18,
      "outputs": []
    },
    {
      "cell_type": "code",
      "source": [
        "# Evaluate the model with best parameters on the training set\n",
        "y_pred_train_best = gb_classifier_best.predict(X_train_reduced)\n",
        "accuracy_train_best = accuracy_score(y_train, y_pred_train_best)\n",
        "classification_rep_train_best = classification_report(y_train, y_pred_train_best)\n",
        "print(\"Training Set Accuracy (Best Model):\", accuracy_train_best)\n",
        "print(\"Training Set Classification Report (Best Model):\\n\", classification_rep_train_best)"
      ],
      "metadata": {
        "colab": {
          "base_uri": "https://localhost:8080/"
        },
        "id": "eZ0gtB7IHqh9",
        "outputId": "f8a5dfa4-572d-4733-a3cc-9e1bc2b265d7"
      },
      "execution_count": 19,
      "outputs": [
        {
          "output_type": "stream",
          "name": "stdout",
          "text": [
            "Training Set Accuracy (Best Model): 0.9946236559139785\n",
            "Training Set Classification Report (Best Model):\n",
            "               precision    recall  f1-score   support\n",
            "\n",
            "           0       1.00      1.00      1.00        39\n",
            "           1       1.00      1.00      1.00         9\n",
            "           2       1.00      1.00      1.00         7\n",
            "           3       0.98      1.00      0.99        44\n",
            "           4       1.00      1.00      1.00        13\n",
            "           5       0.96      1.00      0.98        22\n",
            "           6       1.00      1.00      1.00         3\n",
            "           7       1.00      1.00      1.00        21\n",
            "           8       1.00      0.99      0.99       147\n",
            "           9       1.00      1.00      1.00        67\n",
            "\n",
            "    accuracy                           0.99       372\n",
            "   macro avg       0.99      1.00      1.00       372\n",
            "weighted avg       0.99      0.99      0.99       372\n",
            "\n"
          ]
        }
      ]
    },
    {
      "cell_type": "code",
      "source": [
        "# Evaluate the model on the test set\n",
        "y_pred_test_best = gb_classifier_best.predict(X_test_reduced)\n",
        "accuracy_test_best = accuracy_score(y_test, y_pred_test_best)\n",
        "classification_rep_test_best = classification_report(y_test, y_pred_test_best)\n",
        "print(\"Test Set Accuracy (Best Model):\", accuracy_test_best)\n",
        "print(\"Test Set Classification Report (Best Model):\\n\", classification_rep_test_best)"
      ],
      "metadata": {
        "colab": {
          "base_uri": "https://localhost:8080/"
        },
        "id": "jXuXluNVGr77",
        "outputId": "7be27b3d-7dce-46a5-bbb4-ed9c1820b347"
      },
      "execution_count": 20,
      "outputs": [
        {
          "output_type": "stream",
          "name": "stdout",
          "text": [
            "Test Set Accuracy (Best Model): 0.782258064516129\n",
            "Test Set Classification Report (Best Model):\n",
            "               precision    recall  f1-score   support\n",
            "\n",
            "           0       0.91      0.71      0.80        14\n",
            "           1       1.00      0.67      0.80         3\n",
            "           2       0.50      1.00      0.67         2\n",
            "           3       0.93      0.87      0.90        15\n",
            "           4       0.60      0.75      0.67         4\n",
            "           5       0.60      0.86      0.71         7\n",
            "           6       0.00      0.00      0.00         1\n",
            "           7       1.00      0.43      0.60         7\n",
            "           8       0.75      0.86      0.80        49\n",
            "           9       0.84      0.73      0.78        22\n",
            "\n",
            "    accuracy                           0.78       124\n",
            "   macro avg       0.71      0.69      0.67       124\n",
            "weighted avg       0.80      0.78      0.78       124\n",
            "\n"
          ]
        },
        {
          "output_type": "stream",
          "name": "stderr",
          "text": [
            "/usr/local/lib/python3.10/dist-packages/sklearn/metrics/_classification.py:1344: UndefinedMetricWarning: Precision and F-score are ill-defined and being set to 0.0 in labels with no predicted samples. Use `zero_division` parameter to control this behavior.\n",
            "  _warn_prf(average, modifier, msg_start, len(result))\n",
            "/usr/local/lib/python3.10/dist-packages/sklearn/metrics/_classification.py:1344: UndefinedMetricWarning: Precision and F-score are ill-defined and being set to 0.0 in labels with no predicted samples. Use `zero_division` parameter to control this behavior.\n",
            "  _warn_prf(average, modifier, msg_start, len(result))\n",
            "/usr/local/lib/python3.10/dist-packages/sklearn/metrics/_classification.py:1344: UndefinedMetricWarning: Precision and F-score are ill-defined and being set to 0.0 in labels with no predicted samples. Use `zero_division` parameter to control this behavior.\n",
            "  _warn_prf(average, modifier, msg_start, len(result))\n"
          ]
        }
      ]
    },
    {
      "cell_type": "code",
      "source": [
        "# Evaluate the model with best parameters on the validation set\n",
        "y_pred_validation_best = gb_classifier_best.predict(X_validation_reduced)\n",
        "accuracy_validation_best = accuracy_score(y_validation, y_pred_validation_best)\n",
        "classification_rep_validation_best = classification_report(y_validation, y_pred_validation_best)\n",
        "print(\"Validation Set Accuracy (Best Model):\", accuracy_validation_best)\n",
        "print(\"Validation Set Classification Report (Best Model):\\n\", classification_rep_validation_best)"
      ],
      "metadata": {
        "colab": {
          "base_uri": "https://localhost:8080/"
        },
        "id": "g7KnvPu6FtEC",
        "outputId": "28c2d896-e287-4220-848a-93374bd7d60f"
      },
      "execution_count": 21,
      "outputs": [
        {
          "output_type": "stream",
          "name": "stdout",
          "text": [
            "Validation Set Accuracy (Best Model): 0.8064516129032258\n",
            "Validation Set Classification Report (Best Model):\n",
            "               precision    recall  f1-score   support\n",
            "\n",
            "           0       0.83      0.77      0.80        13\n",
            "           1       1.00      0.67      0.80         3\n",
            "           2       0.50      0.50      0.50         2\n",
            "           3       1.00      0.80      0.89        15\n",
            "           4       1.00      0.50      0.67         4\n",
            "           5       0.56      0.71      0.63         7\n",
            "           6       0.00      0.00      0.00         1\n",
            "           7       0.80      0.57      0.67         7\n",
            "           8       0.76      0.94      0.84        50\n",
            "           9       1.00      0.77      0.87        22\n",
            "\n",
            "    accuracy                           0.81       124\n",
            "   macro avg       0.74      0.62      0.67       124\n",
            "weighted avg       0.83      0.81      0.81       124\n",
            "\n"
          ]
        }
      ]
    },
    {
      "cell_type": "code",
      "source": [
        "# Preparing the hold-out dataset\n",
        "holdout_features = holdout_data[relevant_features]\n",
        "holdout_target = holdout_data['QB Comment']"
      ],
      "metadata": {
        "id": "2CrpAZdnF1ed"
      },
      "execution_count": 22,
      "outputs": []
    },
    {
      "cell_type": "code",
      "source": [
        "# Evaluating the model on the holdout dataset\n",
        "y_pred_holdout_best = gb_classifier_best.predict(holdout_features)\n",
        "accuracy_holdout_best = accuracy_score(holdout_target, y_pred_holdout_best)\n",
        "classification_rep_holdout_best = classification_report(holdout_target, y_pred_holdout_best)\n",
        "print(\"Holdout Dataset Accuracy (Best Model):\", accuracy_holdout_best)\n",
        "print(\"Holdout Dataset Classification Report (Best Model):\\n\", classification_rep_holdout_best)"
      ],
      "metadata": {
        "colab": {
          "base_uri": "https://localhost:8080/"
        },
        "id": "rVXX0a56MFF7",
        "outputId": "461a0bc4-e103-4361-c474-7e56aa0566b3"
      },
      "execution_count": 23,
      "outputs": [
        {
          "output_type": "stream",
          "name": "stdout",
          "text": [
            "Holdout Dataset Accuracy (Best Model): 0.7806451612903226\n",
            "Holdout Dataset Classification Report (Best Model):\n",
            "               precision    recall  f1-score   support\n",
            "\n",
            "           0       0.93      0.76      0.84        17\n",
            "           1       1.00      1.00      1.00         4\n",
            "           2       0.00      0.00      0.00         3\n",
            "           3       0.88      0.79      0.83        19\n",
            "           4       0.50      0.40      0.44         5\n",
            "           5       0.67      0.44      0.53         9\n",
            "           6       0.25      1.00      0.40         1\n",
            "           7       0.73      0.89      0.80         9\n",
            "           8       0.75      0.93      0.83        61\n",
            "           9       0.89      0.63      0.74        27\n",
            "\n",
            "    accuracy                           0.78       155\n",
            "   macro avg       0.66      0.69      0.64       155\n",
            "weighted avg       0.79      0.78      0.77       155\n",
            "\n"
          ]
        },
        {
          "output_type": "stream",
          "name": "stderr",
          "text": [
            "/usr/local/lib/python3.10/dist-packages/sklearn/metrics/_classification.py:1344: UndefinedMetricWarning: Precision and F-score are ill-defined and being set to 0.0 in labels with no predicted samples. Use `zero_division` parameter to control this behavior.\n",
            "  _warn_prf(average, modifier, msg_start, len(result))\n",
            "/usr/local/lib/python3.10/dist-packages/sklearn/metrics/_classification.py:1344: UndefinedMetricWarning: Precision and F-score are ill-defined and being set to 0.0 in labels with no predicted samples. Use `zero_division` parameter to control this behavior.\n",
            "  _warn_prf(average, modifier, msg_start, len(result))\n",
            "/usr/local/lib/python3.10/dist-packages/sklearn/metrics/_classification.py:1344: UndefinedMetricWarning: Precision and F-score are ill-defined and being set to 0.0 in labels with no predicted samples. Use `zero_division` parameter to control this behavior.\n",
            "  _warn_prf(average, modifier, msg_start, len(result))\n"
          ]
        }
      ]
    },
    {
      "cell_type": "code",
      "source": [
        "# Feature Importance Analysis\n",
        "feature_importance = gb_classifier_best.feature_importances_\n",
        "sorted_idx = np.argsort(feature_importance)[::-1]"
      ],
      "metadata": {
        "id": "XixxPqE0MFK1"
      },
      "execution_count": 24,
      "outputs": []
    },
    {
      "cell_type": "code",
      "source": [
        "plt.figure(figsize=(10, 8))\n",
        "plt.title(\"Feature Importance\")\n",
        "bars = plt.barh(range(X_train_reduced.shape[1]), feature_importance[sorted_idx], align='center')\n",
        "plt.yticks(range(X_train_reduced.shape[1]), X_train_reduced.columns[sorted_idx])\n",
        "plt.gca().invert_yaxis()  # Invert y-axis to have the most important feature at the top\n",
        "\n",
        "# Add annotations to the bars\n",
        "for bar in bars:\n",
        "    plt.text(bar.get_width(), bar.get_y() + bar.get_height()/2,\n",
        "             f'{bar.get_width():.2f}',\n",
        "             va='center')\n",
        "\n",
        "plt.tight_layout()\n",
        "plt.show()"
      ],
      "metadata": {
        "colab": {
          "base_uri": "https://localhost:8080/",
          "height": 807
        },
        "id": "zvosseosMFQT",
        "outputId": "fa6968d4-4183-41e0-81f9-c6b667ab739c"
      },
      "execution_count": 25,
      "outputs": [
        {
          "output_type": "display_data",
          "data": {
            "text/plain": [
              "<Figure size 1000x800 with 1 Axes>"
            ],
            "image/png": "[encoded data removed]"
          },
          "metadata": {}
        }
      ]
    },
    {
      "cell_type": "code",
      "source": [
        "# Function to predict the probability of the next play\n",
        "def predict_next_play(sample, model, label_encoders):\n",
        "    # Prepare the data (ensure it has the same format as the training data)\n",
        "    prepared_sample = sample[relevant_features].to_numpy().reshape(1, -1)\n",
        "\n",
        "    # Predict the probabilities for each possible outcome\n",
        "    probabilities = model.predict_proba(prepared_sample)[0]\n",
        "    outcome_labels = label_encoders['QB Comment'].classes_\n",
        "\n",
        "    # Mapping the probabilities to the corresponding outcomes\n",
        "    prob_dict = dict(zip(outcome_labels, probabilities))\n",
        "\n",
        "    # Sorting the probabilities in descending order\n",
        "    sorted_prob_dict = dict(sorted(prob_dict.items(), key=lambda item: item[1], reverse=True))\n",
        "\n",
        "    return sorted_prob_dict"
      ],
      "metadata": {
        "id": "k-cPsXuYMFTL"
      },
      "execution_count": 26,
      "outputs": []
    },
    {
      "cell_type": "code",
      "source": [
        "# Example usage of the prediction function with the holdout data\n",
        "# Select a single sample (row) from the holdout dataset\n",
        "example_data = holdout_features.iloc[5]  # Adjust the index if you want to test a different sample"
      ],
      "metadata": {
        "id": "TCZ_eUiGMFWC"
      },
      "execution_count": 27,
      "outputs": []
    },
    {
      "cell_type": "code",
      "source": [
        "# Predicting probabilities for the next play\n",
        "predicted_probabilities = predict_next_play(example_data, gb_classifier_best, label_encoders)\n",
        "\n",
        "print(\"Predicted Probabilities for Each Possible Outcome of the Next Play:\")\n",
        "for outcome, prob in predicted_probabilities.items():\n",
        "    print(f\"  {outcome}: {prob:.4f}\")"
      ],
      "metadata": {
        "colab": {
          "base_uri": "https://localhost:8080/"
        },
        "id": "ztcqQOqEN2m_",
        "outputId": "8e3a040d-8ed4-4a88-db77-94312360342a"
      },
      "execution_count": 28,
      "outputs": [
        {
          "output_type": "stream",
          "name": "stdout",
          "text": [
            "Predicted Probabilities for Each Possible Outcome of the Next Play:\n",
            "  INTERCEPTION: 0.4653\n",
            "  PUNT: 0.4011\n",
            "  INTERCEPTION-TD: 0.0336\n",
            "  FIELD GOAL: 0.0277\n",
            "  DOWNS: 0.0155\n",
            "  TOUCHDOWN: 0.0151\n",
            "  END OF GAME: 0.0105\n",
            "  FUMBLE: 0.0104\n",
            "  END OF HALF: 0.0104\n",
            "  MISSED FG: 0.0104\n"
          ]
        },
        {
          "output_type": "stream",
          "name": "stderr",
          "text": [
            "/usr/local/lib/python3.10/dist-packages/sklearn/base.py:439: UserWarning: X does not have valid feature names, but GradientBoostingClassifier was fitted with feature names\n",
            "  warnings.warn(\n"
          ]
        }
      ]
    }
  ]
}